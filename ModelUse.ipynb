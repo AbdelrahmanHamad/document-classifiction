{
 "cells": [
  {
   "cell_type": "code",
   "execution_count": 20,
   "metadata": {},
   "outputs": [
    {
     "name": "stdout",
     "output_type": "stream",
     "text": [
      "sport\n"
     ]
    }
   ],
   "source": [
    "import tensorflow as tf\n",
    "from nltk.stem import PorterStemmer\n",
    "from nltk.tokenize import word_tokenize\n",
    "from nltk.corpus import stopwords\n",
    "import numpy as np\n",
    "\n",
    "doc = '''England's defensive crisis grows\n",
    "\n",
    "England's defensive worries have deepened following the withdrawal of Tottenham's Ledley King from the squad to face Holland.\n",
    "\n",
    "Chelsea's John Terry and Wayne Bridge are also out, leaving coach Sven-Goran Eriksson with a real problem for Wednesday's match at Villa Park. Injured Rio Ferdinand and Sol Campbell were both left out of the squad, and Matthew Upson has already pulled out. Wes Brown and Jamie Carragher are likely to be the makeshift partnership. Terry, the captain of Chelsea as they push for the Premiership title, would have been a certain starter in the absence of Campbell and Ferdinand. But now he has pulled out with a bruised knee and is likely to be replaced by Carragher, alongside Brown.\n",
    "\n",
    "Manchester United's Brown last played for England in the defeat by Australia at Upton Park in February 2003. The 25-year-old was only called into the squad on Sunday night as cover following the enforced withdrawal of Upson, who has a hamstring injury. And Brown now looks certain to add to his tally of seven senior appearances for England. King was forced to pull out after his groin injury was assessed by England's medical staff. Eriksson has still not decided whether to call up any further back-up, having already summoned Phil Neville after Bridge pulled out with a foot injury.\n",
    "\n",
    "'''\n",
    "\n",
    "stem = PorterStemmer()\n",
    "\n",
    "stop_words = set(stopwords.words('english'))\n",
    "\n",
    "tokens = word_tokenize(doc)\n",
    "tokens = [token for token in tokens if token not in stop_words]\n",
    "\n",
    "result = []\n",
    "\n",
    "for token in tokens:\n",
    "    result.append(stem.stem(token))\n",
    "\n",
    "\n",
    "doc = ' '.join(result)\n",
    "\n",
    "doc = tf.constant([[doc]])\n",
    "\n",
    "model = tf.saved_model.load('model')\n",
    "model_prediction = model(doc)\n",
    "\n",
    "prediction = np.argmax(model_prediction)\n",
    "\n",
    "if prediction == 0:\n",
    "    print('business')\n",
    "\n",
    "elif prediction == 1:\n",
    "    print('entertainment')\n",
    "\n",
    "elif prediction == 2:\n",
    "    print('politics')\n",
    "\n",
    "elif prediction == 3:\n",
    "    print('sport')\n",
    "\n",
    "else:\n",
    "    print('tech')"
   ]
  }
 ],
 "metadata": {
  "kernelspec": {
   "display_name": "base",
   "language": "python",
   "name": "python3"
  },
  "language_info": {
   "codemirror_mode": {
    "name": "ipython",
    "version": 3
   },
   "file_extension": ".py",
   "mimetype": "text/x-python",
   "name": "python",
   "nbconvert_exporter": "python",
   "pygments_lexer": "ipython3",
   "version": "3.11.5"
  }
 },
 "nbformat": 4,
 "nbformat_minor": 2
}
